{
 "cells": [
  {
   "cell_type": "code",
   "execution_count": null,
   "id": "3e4a557e",
   "metadata": {
    "vscode": {
     "languageId": "plaintext"
    }
   },
   "outputs": [],
   "source": [
    "import pickle\n",
    "\n",
    "\n",
    "with open(\"/content/drive/MyDrive/Rag Chat/embeddings.pkl\", \"wb\") as f:\n",
    "    pickle.dump(all_embeddings, f)\n"
   ]
  },
  {
   "cell_type": "code",
   "execution_count": null,
   "id": "e524b98e",
   "metadata": {
    "vscode": {
     "languageId": "plaintext"
    }
   },
   "outputs": [],
   "source": [
    "from langchain.vectorstores import FAISS\n",
    "\n",
    "# Extract just the text from the documents\n",
    "texts = [doc.page_content for doc in document]\n",
    "\n",
    "# Create (text, embedding) pairs\n",
    "text_embedding_pairs = list(zip(texts, all_embeddings))\n",
    "\n",
    "# Create FAISS index from precomputed embeddings\n",
    "db = FAISS.from_embeddings(text_embedding_pairs, model)\n",
    "DB_FAISS_PATH='/content/drive/MyDrive/Rag Chat'\n",
    "db.save_local(DB_FAISS_PATH)\n"
   ]
  },
  {
   "cell_type": "code",
   "execution_count": null,
   "id": "8c5dea82",
   "metadata": {
    "vscode": {
     "languageId": "plaintext"
    }
   },
   "outputs": [],
   "source": [
    "#Load model\n",
    "\n",
    "os.environ[\"HUGGINGFACEHUB_API_TOKEN\"] = \"\"\n",
    "model_name = \"HuggingFaceH4/zephyr-7b-beta\"\n",
    "def load_model(model_name):\n",
    "    llm = HuggingFaceEndpoint(\n",
    "        repo_id=model_name,\n",
    "        temperature=0.5,\n",
    "        max_new_tokens=512,\n",
    "    )\n",
    "    return llm\n",
    "\n",
    "\n",
    "llm = load_model(model_name)\n"
   ]
  },
  {
   "cell_type": "code",
   "execution_count": null,
   "id": "d80e7758",
   "metadata": {
    "vscode": {
     "languageId": "plaintext"
    }
   },
   "outputs": [],
   "source": [
    "def custom_prompt():\n",
    "    prompt_template = \"\"\"Use the following context to answer the question at the end. \n",
    "Answer only with \"yes\" or \"no\" — nothing else. \n",
    "If you don't know the answer, say \"no\". \n",
    "{context}\n",
    "Question: {question}\n",
    "Answer:\"\"\"\n",
    "    PROMPT = PromptTemplate(template=prompt_template, input_variables=[\"context\", \"question\"])\n",
    "    return PROMPT\n"
   ]
  },
  {
   "cell_type": "code",
   "execution_count": null,
   "id": "3ef27f26",
   "metadata": {
    "vscode": {
     "languageId": "plaintext"
    }
   },
   "outputs": [],
   "source": [
    "embeddings_model = HuggingFaceEmbeddings(model_name=\"sentence-transformers/all-MiniLM-L6-v2\")\n",
    "\n",
    "DB_FAISS_PATH = '/content/drive/MyDrive/Rag Chat'\n",
    "db_ = FAISS.load_local(DB_FAISS_PATH, embeddings_model, allow_dangerous_deserialization=True)\n"
   ]
  },
  {
   "cell_type": "code",
   "execution_count": null,
   "id": "e7820c62",
   "metadata": {
    "vscode": {
     "languageId": "plaintext"
    }
   },
   "outputs": [],
   "source": [
    "embeddings_model = HuggingFaceEmbeddings(model_name=\"sentence-transformers/all-MiniLM-L6-v2\")\n",
    "\n",
    "DB_FAISS_PATH = '/content/drive/MyDrive/Rag Chat'\n",
    "db_ = FAISS.load_local(DB_FAISS_PATH, embeddings_model, allow_dangerous_deserialization=True)\n"
   ]
  },
  {
   "cell_type": "code",
   "execution_count": null,
   "id": "003c680e",
   "metadata": {
    "vscode": {
     "languageId": "plaintext"
    }
   },
   "outputs": [],
   "source": [
    "#Create QA\n",
    "qa_chain = RetrievalQA.from_chain_type(\n",
    "    llm=llm,\n",
    "    chain_type=\"stuff\",\n",
    "    retriever=db_.as_retriever(search_kwargs={'k': 3}),\n",
    "    return_source_documents=True,\n",
    "    chain_type_kwargs={'prompt': custom_prompt()}\n",
    ")\n"
   ]
  },
  {
   "cell_type": "code",
   "execution_count": null,
   "id": "a670e55b",
   "metadata": {
    "vscode": {
     "languageId": "plaintext"
    }
   },
   "outputs": [],
   "source": [
    "# user_query = input('Write Query: ')\n",
    "# response = qa_chain.invoke({\"query\": user_query})\n",
    "print(\"Answer:\")\n",
    "listt = [\n",
    "    {\n",
    "        \"ID\": \"1\",\n",
    "        \"Statement\": \"Rama is the eldest son of King Dasharatha.\",\n",
    "        \"Truth\": \"TRUE\",\n",
    "        \"Reference\": \"Bala Kanda, Sarga 18, Shloka 24\"\n",
    "    },\n",
    "    {\n",
    "        \"ID\": \"2\",\n",
    "        \"Statement\": \"Sita was discovered by King Janaka in a furrow during ploughing and was later adopted by him.\",\n",
    "        \"Truth\": \"TRUE\",\n",
    "        \"Reference\": \"Bala Kanda, Sarga 66, Shloka 14\"\n",
    "    },\n",
    "    {\n",
    "        \"ID\": \"3\",\n",
    "        \"Statement\": \"Lakshmana, Ramaâs devoted younger brother, accompanied him into exile.\",\n",
    "        \"Truth\": \"TRUE\",\n",
    "        \"Reference\": \"Ayodhya Kanda, Sarga 31, Shloka 30\"\n",
    "    },\n",
    "    {\n",
    "        \"ID\": \"4\",\n",
    "        \"Statement\": \"Bharata, another brother of Rama, revered him and ruled as regent in his absence.\",\n",
    "        \"Truth\": \"TRUE\",\n",
    "        \"Reference\": \"Ayodhya Kanda, Sarga 115, Shloka 22\"\n",
    "    },\n",
    "    {\n",
    "        \"ID\": \"5\",\n",
    "        \"Statement\": \"Hanuman was the best minister of Sugreeva.\",\n",
    "        \"Truth\": \"TRUE\",\n",
    "        \"Reference\": \"Kishkindha Kanda, Sarga 6, Shloka 2\"\n",
    "    },\n",
    "    {\n",
    "        \"ID\": \"6\",\n",
    "        \"Statement\": \"Ravana, the demon king of Lanka, abducted Sita, setting in motion the events of the epic.\",\n",
    "        \"Truth\": \"TRUE\",\n",
    "        \"Reference\": \"Aranya Kanda, Sarga 49, Shloka 20\"\n",
    "    },\n",
    "    {\n",
    "        \"ID\": \"7\",\n",
    "        \"Statement\": \"On seeing Hanuman, Sita lost her consciousness for a long time.\",\n",
    "        \"Truth\": \"TRUE\",\n",
    "        \"Reference\": \"Sundara Kanda, Sarga 32, Shloka 8\"\n",
    "    },\n",
    "    {\n",
    "        \"ID\": \"8\",\n",
    "        \"Statement\": \"Nila, a general of the monkey army, was rendered unconscious by a mystic arrow shot by Ravana.\",\n",
    "        \"Truth\": \"TRUE\",\n",
    "        \"Reference\": \"Yuddha Kanda, Sarga 59, Shloka 89\"\n",
    "    },\n",
    "    {\n",
    "        \"ID\": \"9\",\n",
    "        \"Statement\": \"Nala constructed a bridge for Rama to cross over to Lanka.\",\n",
    "        \"Truth\": \"TRUE\",\n",
    "        \"Reference\": \"Yuddha Kanda, Sarga 27, Shloka 61\"\n",
    "    },\n",
    "    {\n",
    "        \"ID\": \"10\",\n",
    "        \"Statement\": \"The sage Vishwamitra mentored Rama during his early life, imparting knowledge of warfare and ritual.\",\n",
    "        \"Truth\": \"TRUE\",\n",
    "        \"Reference\": \"Bala Kanda, Sarga 22\"\n",
    "    },\n",
    "    {\n",
    "        \"ID\": \"11\",\n",
    "        \"Statement\": \"Sita herself built the bridge to Lanka with the help of the monkey army.\",\n",
    "        \"Truth\": \"FALSE\",\n",
    "        \"Reference\": \"\"\n",
    "    },\n",
    "    {\n",
    "        \"ID\": \"12\",\n",
    "        \"Statement\": \"Lakshmana was a disciple of Ravana and learned warfare techniques from him.\",\n",
    "        \"Truth\": \"FALSE\",\n",
    "        \"Reference\": \"\"\n",
    "    },\n",
    "    {\n",
    "        \"ID\": \"13\",\n",
    "        \"Statement\": \"Bharata was originally from Lanka and was later adopted by King Dasharatha.\",\n",
    "        \"Truth\": \"FALSE\",\n",
    "        \"Reference\": \"\"\n",
    "    },\n",
    "    {\n",
    "        \"ID\": \"14\",\n",
    "        \"Statement\": \"After meeting Sita, Hanuman lost his ability to speak entirely.\",\n",
    "        \"Truth\": \"FALSE\",\n",
    "        \"Reference\": \"\"\n",
    "    },\n",
    "    {\n",
    "        \"ID\": \"15\",\n",
    "        \"Statement\": \"Ravana is depicted solely as a peaceful poet who never engaged in any battles.\",\n",
    "        \"Truth\": \"FALSE\",\n",
    "        \"Reference\": \"\"\n",
    "    },\n",
    "    {\n",
    "        \"ID\": \"16\",\n",
    "        \"Statement\": \"Ramaâs exile lasted only one year rather than the traditionally recounted fourteen years.\",\n",
    "        \"Truth\": \"FALSE\",\n",
    "        \"Reference\": \"\"\n",
    "    },\n",
    "    {\n",
    "        \"ID\": \"17\",\n",
    "        \"Statement\": \"Sita and Rama were married in Lanka with Ravana acting as the priest for their wedding.\",\n",
    "        \"Truth\": \"FALSE\",\n",
    "        \"Reference\": \"\"\n",
    "    },\n",
    "    {\n",
    "        \"ID\": \"18\",\n",
    "        \"Statement\": \"Lakshmana is not mentioned at all in the Valmiki Ramayana.\",\n",
    "        \"Truth\": \"FALSE\",\n",
    "        \"Reference\": \"\"\n",
    "    },\n",
    "    {\n",
    "        \"ID\": \"19\",\n",
    "        \"Statement\": \"Bharata built a grand palace in Lanka following Ramaâs victory over Ravana.\",\n",
    "        \"Truth\": \"FALSE\",\n",
    "        \"Reference\": \"\"\n",
    "    },\n",
    "    {\n",
    "        \"ID\": \"20\",\n",
    "        \"Statement\": \"Hanuman was the son of Ravana.\",\n",
    "        \"Truth\": \"FALSE\",\n",
    "        \"Reference\": \"\"\n",
    "    }\n",
    "]\n",
    "for item in listt:\n",
    "  print(item['Statement'])\n",
    "  response = qa_chain.invoke({\"query\": item['Statement']})\n",
    "  print(\"Answer:\")\n",
    "  print(response['result'])\n",
    "\n",
    "\n"
   ]
  },
  {
   "cell_type": "code",
   "execution_count": null,
   "id": "a32001ed",
   "metadata": {
    "vscode": {
     "languageId": "plaintext"
    }
   },
   "outputs": [],
   "source": [
    "try:\n",
    "    user_query = input('Write Query: ')\n",
    "    response = qa_chain.invoke({\"query\": user_query})\n",
    "    print(\"Answer:\")\n",
    "    print(response['result'])\n",
    "    \n",
    "    # Optionally print source documents\n",
    "    if 'source_documents' in response:\n",
    "        print(\"Source documents:\")\n",
    "        for i, doc in enumerate(response['source_documents']):\n",
    "            print(f\"Document {i+1}: {doc.page_content[:200]}...\")\n",
    "            \n",
    "except Exception as e:\n",
    "    print(f\"Error during query processing: {str(e)}\")\n",
    "    print(\"Please check your FAISS index path and model availability.\")\n",
    "\n",
    "\n",
    "\n",
    "\n",
    "\n",
    "# # Create RetrievalQA chain\n",
    "\n",
    "\n",
    "# # Query loop with error handling\n",
    "try:\n",
    "    user_query = input('Write Query: ')\n",
    "    response = qa_chain.invoke({\"query\": user_query})\n",
    "    print(\"\\nAnswer:\")\n",
    "    print(response['result'])\n",
    "    \n",
    "    # Optionally print source documents\n",
    "    if 'source_documents' in response:\n",
    "        print(\"\\nSource documents:\")\n",
    "        for i, doc in enumerate(response['source_documents']):\n",
    "            print(f\"Document {i+1}: {doc.page_content[:200]}...\")\n",
    "            \n",
    "except Exception as e:\n",
    "    print(f\"Error during query processing: {str(e)}\")\n",
    "    print(\"Please check your FAISS index path and model availability.\")"
   ]
  }
 ],
 "metadata": {
  "language_info": {
   "name": "python"
  }
 },
 "nbformat": 4,
 "nbformat_minor": 5
}
